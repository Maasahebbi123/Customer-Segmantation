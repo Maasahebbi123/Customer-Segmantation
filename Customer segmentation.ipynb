{
 "cells": [
  {
   "cell_type": "code",
   "execution_count": 8,
   "id": "ad21a9a4",
   "metadata": {},
   "outputs": [],
   "source": [
    "import numpy as np\n",
    "import pandas as pd\n",
    "import seaborn as sns\n",
    "import matplotlib.pyplot as plt\n",
    "from sklearn.cluster import KMeans"
   ]
  },
  {
   "cell_type": "markdown",
   "id": "6eb9206d",
   "metadata": {},
   "source": [
    "Data Collection and Analysis"
   ]
  },
  {
   "cell_type": "code",
   "execution_count": 9,
   "id": "400684e5",
   "metadata": {},
   "outputs": [],
   "source": [
    "#Loading the data from csv file to pandas Dataframe\n",
    "df=pd.read_csv('sales_data.csv', encoding = 'unicode_escape')"
   ]
  },
  {
   "cell_type": "code",
   "execution_count": 10,
   "id": "af52c758",
   "metadata": {},
   "outputs": [
    {
     "data": {
      "text/html": [
       "<div>\n",
       "<style scoped>\n",
       "    .dataframe tbody tr th:only-of-type {\n",
       "        vertical-align: middle;\n",
       "    }\n",
       "\n",
       "    .dataframe tbody tr th {\n",
       "        vertical-align: top;\n",
       "    }\n",
       "\n",
       "    .dataframe thead th {\n",
       "        text-align: right;\n",
       "    }\n",
       "</style>\n",
       "<table border=\"1\" class=\"dataframe\">\n",
       "  <thead>\n",
       "    <tr style=\"text-align: right;\">\n",
       "      <th></th>\n",
       "      <th>CustomerID</th>\n",
       "      <th>TOTAL_ORDERS</th>\n",
       "      <th>REVENUE</th>\n",
       "      <th>AVERAGE_ORDER_VALUE</th>\n",
       "      <th>CARRIAGE_REVENUE</th>\n",
       "      <th>AVERAGESHIPPING</th>\n",
       "      <th>FIRST_ORDER_DATE</th>\n",
       "      <th>LATEST_ORDER_DATE</th>\n",
       "      <th>AVGDAYSBETWEENORDERS</th>\n",
       "      <th>DAYSSINCELASTORDER</th>\n",
       "      <th>...</th>\n",
       "      <th>TIME_0000_0600_ORDERS</th>\n",
       "      <th>TIME_0601_1200_ORDERS</th>\n",
       "      <th>TIME_1200_1800_ORDERS</th>\n",
       "      <th>TIME_1801_2359_ORDERS</th>\n",
       "      <th>TIME_0000_0600_REVENUE</th>\n",
       "      <th>TIME_0601_1200_REVENUE</th>\n",
       "      <th>TIME_1200_1800_REVENUE</th>\n",
       "      <th>TIME_1801_2359_REVENUE</th>\n",
       "      <th>Unnamed: 40</th>\n",
       "      <th>Unnamed: 41</th>\n",
       "    </tr>\n",
       "  </thead>\n",
       "  <tbody>\n",
       "    <tr>\n",
       "      <th>0</th>\n",
       "      <td>22</td>\n",
       "      <td>124</td>\n",
       "      <td>11986.54</td>\n",
       "      <td>96.67</td>\n",
       "      <td>529.59</td>\n",
       "      <td>4.27</td>\n",
       "      <td>30-Dec-16</td>\n",
       "      <td>24-Oct-21</td>\n",
       "      <td>14.19</td>\n",
       "      <td>1</td>\n",
       "      <td>...</td>\n",
       "      <td>12</td>\n",
       "      <td>61</td>\n",
       "      <td>37</td>\n",
       "      <td>14</td>\n",
       "      <td>1067.92</td>\n",
       "      <td>5674.65</td>\n",
       "      <td>3916.53</td>\n",
       "      <td>1327.44</td>\n",
       "      <td>NaN</td>\n",
       "      <td>NaN</td>\n",
       "    </tr>\n",
       "    <tr>\n",
       "      <th>1</th>\n",
       "      <td>29</td>\n",
       "      <td>82</td>\n",
       "      <td>11025.96</td>\n",
       "      <td>134.46</td>\n",
       "      <td>97.92</td>\n",
       "      <td>1.19</td>\n",
       "      <td>31-Mar-18</td>\n",
       "      <td>24-Oct-21</td>\n",
       "      <td>15.89</td>\n",
       "      <td>1</td>\n",
       "      <td>...</td>\n",
       "      <td>1</td>\n",
       "      <td>13</td>\n",
       "      <td>24</td>\n",
       "      <td>44</td>\n",
       "      <td>30.25</td>\n",
       "      <td>3143.69</td>\n",
       "      <td>2205.47</td>\n",
       "      <td>5646.55</td>\n",
       "      <td>NaN</td>\n",
       "      <td>33340.77</td>\n",
       "    </tr>\n",
       "    <tr>\n",
       "      <th>2</th>\n",
       "      <td>83</td>\n",
       "      <td>43</td>\n",
       "      <td>7259.69</td>\n",
       "      <td>168.83</td>\n",
       "      <td>171.69</td>\n",
       "      <td>3.99</td>\n",
       "      <td>30-Nov-17</td>\n",
       "      <td>24-Oct-21</td>\n",
       "      <td>33.12</td>\n",
       "      <td>1</td>\n",
       "      <td>...</td>\n",
       "      <td>0</td>\n",
       "      <td>6</td>\n",
       "      <td>12</td>\n",
       "      <td>25</td>\n",
       "      <td>0.00</td>\n",
       "      <td>707.98</td>\n",
       "      <td>2560.91</td>\n",
       "      <td>3990.80</td>\n",
       "      <td>NaN</td>\n",
       "      <td>NaN</td>\n",
       "    </tr>\n",
       "    <tr>\n",
       "      <th>3</th>\n",
       "      <td>95</td>\n",
       "      <td>44</td>\n",
       "      <td>6992.27</td>\n",
       "      <td>158.92</td>\n",
       "      <td>92.82</td>\n",
       "      <td>2.11</td>\n",
       "      <td>09-Apr-19</td>\n",
       "      <td>24-Oct-21</td>\n",
       "      <td>21.11</td>\n",
       "      <td>1</td>\n",
       "      <td>...</td>\n",
       "      <td>0</td>\n",
       "      <td>10</td>\n",
       "      <td>13</td>\n",
       "      <td>21</td>\n",
       "      <td>0.00</td>\n",
       "      <td>1908.99</td>\n",
       "      <td>2025.05</td>\n",
       "      <td>3058.23</td>\n",
       "      <td>NaN</td>\n",
       "      <td>NaN</td>\n",
       "    </tr>\n",
       "    <tr>\n",
       "      <th>4</th>\n",
       "      <td>124</td>\n",
       "      <td>55</td>\n",
       "      <td>6263.44</td>\n",
       "      <td>113.88</td>\n",
       "      <td>179.04</td>\n",
       "      <td>3.26</td>\n",
       "      <td>23-Oct-20</td>\n",
       "      <td>24-Oct-21</td>\n",
       "      <td>6.65</td>\n",
       "      <td>1</td>\n",
       "      <td>...</td>\n",
       "      <td>6</td>\n",
       "      <td>9</td>\n",
       "      <td>27</td>\n",
       "      <td>13</td>\n",
       "      <td>501.34</td>\n",
       "      <td>1197.83</td>\n",
       "      <td>3004.77</td>\n",
       "      <td>1559.50</td>\n",
       "      <td>NaN</td>\n",
       "      <td>NaN</td>\n",
       "    </tr>\n",
       "  </tbody>\n",
       "</table>\n",
       "<p>5 rows × 42 columns</p>\n",
       "</div>"
      ],
      "text/plain": [
       "   CustomerID  TOTAL_ORDERS   REVENUE  AVERAGE_ORDER_VALUE  CARRIAGE_REVENUE  \\\n",
       "0          22           124  11986.54                96.67            529.59   \n",
       "1          29            82  11025.96               134.46             97.92   \n",
       "2          83            43   7259.69               168.83            171.69   \n",
       "3          95            44   6992.27               158.92             92.82   \n",
       "4         124            55   6263.44               113.88            179.04   \n",
       "\n",
       "   AVERAGESHIPPING FIRST_ORDER_DATE LATEST_ORDER_DATE  AVGDAYSBETWEENORDERS  \\\n",
       "0             4.27        30-Dec-16         24-Oct-21                 14.19   \n",
       "1             1.19        31-Mar-18         24-Oct-21                 15.89   \n",
       "2             3.99        30-Nov-17         24-Oct-21                 33.12   \n",
       "3             2.11        09-Apr-19         24-Oct-21                 21.11   \n",
       "4             3.26        23-Oct-20         24-Oct-21                  6.65   \n",
       "\n",
       "   DAYSSINCELASTORDER  ...  TIME_0000_0600_ORDERS  TIME_0601_1200_ORDERS  \\\n",
       "0                   1  ...                     12                     61   \n",
       "1                   1  ...                      1                     13   \n",
       "2                   1  ...                      0                      6   \n",
       "3                   1  ...                      0                     10   \n",
       "4                   1  ...                      6                      9   \n",
       "\n",
       "   TIME_1200_1800_ORDERS  TIME_1801_2359_ORDERS  TIME_0000_0600_REVENUE  \\\n",
       "0                     37                     14                 1067.92   \n",
       "1                     24                     44                   30.25   \n",
       "2                     12                     25                    0.00   \n",
       "3                     13                     21                    0.00   \n",
       "4                     27                     13                  501.34   \n",
       "\n",
       "   TIME_0601_1200_REVENUE  TIME_1200_1800_REVENUE  TIME_1801_2359_REVENUE  \\\n",
       "0                 5674.65                 3916.53                 1327.44   \n",
       "1                 3143.69                 2205.47                 5646.55   \n",
       "2                  707.98                 2560.91                 3990.80   \n",
       "3                 1908.99                 2025.05                 3058.23   \n",
       "4                 1197.83                 3004.77                 1559.50   \n",
       "\n",
       "   Unnamed: 40  Unnamed: 41  \n",
       "0          NaN          NaN  \n",
       "1          NaN     33340.77  \n",
       "2          NaN          NaN  \n",
       "3          NaN          NaN  \n",
       "4          NaN          NaN  \n",
       "\n",
       "[5 rows x 42 columns]"
      ]
     },
     "execution_count": 10,
     "metadata": {},
     "output_type": "execute_result"
    }
   ],
   "source": [
    "df.head()"
   ]
  },
  {
   "cell_type": "code",
   "execution_count": 11,
   "id": "fe13390b",
   "metadata": {},
   "outputs": [
    {
     "data": {
      "text/plain": [
       "(5000, 42)"
      ]
     },
     "execution_count": 11,
     "metadata": {},
     "output_type": "execute_result"
    }
   ],
   "source": [
    "df.shape"
   ]
  },
  {
   "cell_type": "code",
   "execution_count": 16,
   "id": "91acb41f",
   "metadata": {},
   "outputs": [
    {
     "name": "stdout",
     "output_type": "stream",
     "text": [
      "<class 'pandas.core.frame.DataFrame'>\n",
      "RangeIndex: 5000 entries, 0 to 4999\n",
      "Data columns (total 40 columns):\n",
      " #   Column                     Non-Null Count  Dtype  \n",
      "---  ------                     --------------  -----  \n",
      " 0   CustomerID                 5000 non-null   int64  \n",
      " 1   TOTAL_ORDERS               5000 non-null   int64  \n",
      " 2   REVENUE                    5000 non-null   float64\n",
      " 3   AVERAGE_ORDER_VALUE        5000 non-null   float64\n",
      " 4   CARRIAGE_REVENUE           5000 non-null   float64\n",
      " 5   AVERAGESHIPPING            5000 non-null   float64\n",
      " 6   FIRST_ORDER_DATE           5000 non-null   object \n",
      " 7   LATEST_ORDER_DATE          5000 non-null   object \n",
      " 8   AVGDAYSBETWEENORDERS       5000 non-null   float64\n",
      " 9   DAYSSINCELASTORDER         5000 non-null   int64  \n",
      " 10  MONDAY_ORDERS              5000 non-null   int64  \n",
      " 11  TUESDAY_ORDERS             5000 non-null   int64  \n",
      " 12  WEDNESDAY_ORDERS           5000 non-null   int64  \n",
      " 13  THURSDAY_ORDERS            5000 non-null   int64  \n",
      " 14  FRIDAY_ORDERS              5000 non-null   int64  \n",
      " 15  SATURDAY_ORDERS            5000 non-null   int64  \n",
      " 16  SUNDAY_ORDERS              5000 non-null   int64  \n",
      " 17  MONDAY_REVENUE             5000 non-null   float64\n",
      " 18  TUESDAY_REVENUE            5000 non-null   float64\n",
      " 19  WEDNESDAY_REVENUE          5000 non-null   float64\n",
      " 20  THURSDAY_REVENUE           5000 non-null   float64\n",
      " 21  FRIDAY_REVENUE             5000 non-null   float64\n",
      " 22  SATURDAY_REVENUE           5000 non-null   float64\n",
      " 23  SUNDAY_REVENUE             5000 non-null   float64\n",
      " 24  WEEK1_DAY01_DAY07_ORDERS   5000 non-null   int64  \n",
      " 25  WEEK2_DAY08_DAY15_ORDERS   5000 non-null   int64  \n",
      " 26  WEEK3_DAY16_DAY23_ORDERS   5000 non-null   int64  \n",
      " 27  WEEK4_DAY24_DAY31_ORDERS   5000 non-null   int64  \n",
      " 28  WEEK1_DAY01_DAY07_REVENUE  5000 non-null   float64\n",
      " 29  WEEK2_DAY08_DAY15_REVENUE  5000 non-null   float64\n",
      " 30  WEEK3_DAY16_DAY23_REVENUE  5000 non-null   float64\n",
      " 31  WEEK4_DAY24_DAY31_REVENUE  5000 non-null   float64\n",
      " 32  TIME_0000_0600_ORDERS      5000 non-null   int64  \n",
      " 33  TIME_0601_1200_ORDERS      5000 non-null   int64  \n",
      " 34  TIME_1200_1800_ORDERS      5000 non-null   int64  \n",
      " 35  TIME_1801_2359_ORDERS      5000 non-null   int64  \n",
      " 36  TIME_0000_0600_REVENUE     5000 non-null   float64\n",
      " 37  TIME_0601_1200_REVENUE     5000 non-null   float64\n",
      " 38  TIME_1200_1800_REVENUE     5000 non-null   float64\n",
      " 39  TIME_1801_2359_REVENUE     5000 non-null   float64\n",
      "dtypes: float64(20), int64(18), object(2)\n",
      "memory usage: 1.5+ MB\n"
     ]
    }
   ],
   "source": [
    "df.info()"
   ]
  },
  {
   "cell_type": "code",
   "execution_count": 19,
   "id": "fccbda83",
   "metadata": {},
   "outputs": [
    {
     "data": {
      "text/plain": [
       "0       124\n",
       "1        82\n",
       "2        43\n",
       "3        44\n",
       "4        55\n",
       "       ... \n",
       "4995      1\n",
       "4996      1\n",
       "4997      1\n",
       "4998      1\n",
       "4999      2\n",
       "Name: TOTAL_ORDERS, Length: 5000, dtype: int64"
      ]
     },
     "execution_count": 19,
     "metadata": {},
     "output_type": "execute_result"
    }
   ],
   "source": [
    "df['TOTAL_ORDERS']"
   ]
  },
  {
   "cell_type": "code",
   "execution_count": 14,
   "id": "c91a025d",
   "metadata": {},
   "outputs": [],
   "source": [
    "df.drop('Unnamed: 40', axis=1, inplace=True)"
   ]
  },
  {
   "cell_type": "code",
   "execution_count": 15,
   "id": "aa8fda6f",
   "metadata": {},
   "outputs": [],
   "source": [
    "df.drop('Unnamed: 41', axis=1, inplace=True)"
   ]
  },
  {
   "cell_type": "code",
   "execution_count": 18,
   "id": "cb54a3aa",
   "metadata": {},
   "outputs": [
    {
     "name": "stdout",
     "output_type": "stream",
     "text": [
      "[[1.240000e+02 1.198654e+04]\n",
      " [8.200000e+01 1.102596e+04]\n",
      " [4.300000e+01 7.259690e+03]\n",
      " ...\n",
      " [1.000000e+00 1.174900e+02]\n",
      " [1.000000e+00 1.174900e+02]\n",
      " [2.000000e+00 9.414000e+01]]\n"
     ]
    }
   ],
   "source": [
    "#choosing the TOTAL_ORDERS and REVENUE columns \n",
    "X=df.iloc[:,[1,2]].values\n",
    "print(X)"
   ]
  },
  {
   "cell_type": "code",
   "execution_count": 20,
   "id": "df9755f1",
   "metadata": {},
   "outputs": [],
   "source": [
    "#Choosing the number of Cluster\n",
    "#Finding wcss value for different number of clusters"
   ]
  },
  {
   "cell_type": "code",
   "execution_count": 22,
   "id": "ac714273",
   "metadata": {},
   "outputs": [],
   "source": [
    "WCSS=[]\n",
    "for i in range(1,11):\n",
    "    kmeans=KMeans(n_clusters=i,init='k-means++',random_state=42)\n",
    "    kmeans.fit(X)\n",
    "    WCSS.append(kmeans.inertia_)\n",
    "    "
   ]
  },
  {
   "cell_type": "code",
   "execution_count": 23,
   "id": "530199a2",
   "metadata": {},
   "outputs": [
    {
     "data": {
      "image/png": "[encoded data removed]",
      "text/plain": [
       "<Figure size 432x288 with 1 Axes>"
      ]
     },
     "metadata": {},
     "output_type": "display_data"
    }
   ],
   "source": [
    "#plot an Elbow graph\n",
    "sns.set()\n",
    "plt.plot(range(1,11),WCSS)\n",
    "plt.title('The Elbow point graph')\n",
    "plt.xlabel('Number of clusters')\n",
    "plt.ylabel('WCSS')\n",
    "plt.show()"
   ]
  },
  {
   "cell_type": "raw",
   "id": "de3ac171",
   "metadata": {},
   "source": [
    "So from the above Elbow point graph it is clear that there is no sharp decreament after point 3.\n",
    "So we can select K=3"
   ]
  },
  {
   "cell_type": "code",
   "execution_count": 24,
   "id": "ca7ac696",
   "metadata": {},
   "outputs": [],
   "source": [
    "#Training the K-means clustering model\n",
    "kmeans=KMeans(n_clusters=3,init='k-means++',random_state=0)\n"
   ]
  },
  {
   "cell_type": "code",
   "execution_count": 25,
   "id": "54bd0cc4",
   "metadata": {},
   "outputs": [
    {
     "name": "stdout",
     "output_type": "stream",
     "text": [
      "[2 2 2 ... 0 0 0]\n"
     ]
    }
   ],
   "source": [
    "#retun a label for each data point based on their cluster\n",
    "Y=kmeans.fit_predict(X)\n",
    "print(Y)"
   ]
  },
  {
   "cell_type": "markdown",
   "id": "78de03f1",
   "metadata": {},
   "source": [
    "Visualization"
   ]
  },
  {
   "cell_type": "code",
   "execution_count": 29,
   "id": "cd4cfc5f",
   "metadata": {},
   "outputs": [
    {
     "data": {
      "image/png": "[encoded data removed]",
      "text/plain": [
       "<Figure size 576x576 with 1 Axes>"
      ]
     },
     "metadata": {},
     "output_type": "display_data"
    }
   ],
   "source": [
    "#Plotting all the clusters and their centroids\n",
    "plt.figure(figsize=(8,8))\n",
    "plt.scatter(X[Y==0,0],X[Y==0,1],s=50,c='green',label='champions')\n",
    "plt.scatter(X[Y==1,0],X[Y==1,1],s=50,c='red',label='Potential customers')\n",
    "plt.scatter(X[Y==2,0],X[Y==2,1],s=50,c='blue',label='need attention')\n",
    "\n",
    "\n",
    "#plot Centroids\n",
    "plt.scatter(kmeans.cluster_centers_[:,0],kmeans.cluster_centers_[:,1],s=100,c='cyan',label='centroids')\n",
    "plt.title('Customer Groups')\n",
    "plt.xlabel('Revenue')\n",
    "plt.ylabel('Total_orders')\n",
    "plt.show()"
   ]
  },
  {
   "cell_type": "code",
   "execution_count": null,
   "id": "300a584c",
   "metadata": {},
   "outputs": [],
   "source": [
    "df"
   ]
  }
 ],
 "metadata": {
  "kernelspec": {
   "display_name": "Python 3 (ipykernel)",
   "language": "python",
   "name": "python3"
  },
  "language_info": {
   "codemirror_mode": {
    "name": "ipython",
    "version": 3
   },
   "file_extension": ".py",
   "mimetype": "text/x-python",
   "name": "python",
   "nbconvert_exporter": "python",
   "pygments_lexer": "ipython3",
   "version": "3.10.1"
  }
 },
 "nbformat": 4,
 "nbformat_minor": 5
}
